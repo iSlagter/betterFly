{
 "cells": [
  {
   "attachments": {},
   "cell_type": "markdown",
   "id": "07dfaacc",
   "metadata": {},
   "source": [
    "# <center> Kayak Scraper </center>"
   ]
  },
  {
   "cell_type": "code",
   "execution_count": 20,
   "id": "41746800",
   "metadata": {},
   "outputs": [],
   "source": [
    "from time import sleep\n",
    "import pandas as pd\n",
    "from selenium import webdriver\n",
    "from selenium.webdriver.common.keys import Keys\n",
    "from selenium.webdriver.common.by import By\n",
    "from bs4 import BeautifulSoup\n",
    "import re\n",
    "import numpy as np\n",
    "from tqdm import tqdm"
   ]
  },
  {
   "cell_type": "code",
   "execution_count": 9,
   "id": "a2fb3624",
   "metadata": {},
   "outputs": [],
   "source": [
    "# path to chromedriver\n",
    "chromedriver_path =  r\"C:\\Users\\Slagter\\Downloads\\chromedriver_win32\\chromedriver.exe\""
   ]
  },
  {
   "cell_type": "code",
   "execution_count": 10,
   "id": "eee435b1",
   "metadata": {
    "scrolled": false
   },
   "outputs": [],
   "source": [
    "# launching the driver\n",
    "driver = webdriver.Chrome(chromedriver_path)"
   ]
  },
  {
   "attachments": {},
   "cell_type": "markdown",
   "id": "87c518ac",
   "metadata": {},
   "source": [
    "### User Input"
   ]
  },
  {
   "cell_type": "code",
   "execution_count": 11,
   "id": "086a9e1b",
   "metadata": {
    "scrolled": false
   },
   "outputs": [
    {
     "name": "stdout",
     "output_type": "stream",
     "text": [
      "Please enter -1 when done.\n",
      "----------\n",
      "----------\n",
      "----------\n",
      "----------\n",
      "----------\n",
      "----------\n",
      "----------\n",
      "----------\n",
      "----------\n",
      "----------\n",
      "----------\n",
      "----------\n",
      "----------\n",
      "\n",
      "Routes:\n",
      "AMS => NYC\n",
      "FCO => NYC\n",
      "MEX => PAR\n",
      "NYC => AMS\n",
      "NYC => LUX\n",
      "NYC => PAR\n",
      "PAR => NYC\n",
      "TLV => BKK\n",
      "TLV => GRU\n",
      "TLV => MEX\n",
      "TLV => OSL\n",
      "YYZ => BKK\n"
     ]
    }
   ],
   "source": [
    "# get user input for routes\n",
    "sources = []\n",
    "destinations = []\n",
    "print(\"Please enter -1 when done.\")\n",
    "print(\"-\"*10)\n",
    "while True:\n",
    "    sources.append(input(\"From which city?\\n\"))\n",
    "    if \"-1\" in sources: \n",
    "        sources.pop(-1)\n",
    "        break\n",
    "    destinations.append(input(\"Where to?\\n\"))\n",
    "    if \"-1\" in destinations: \n",
    "        sources.pop(-1)\n",
    "        destinations.pop(-1)\n",
    "        break\n",
    "    print(\"-\"*10)\n",
    "\n",
    "print(\"\\nRoutes:\")\n",
    "for i in range(len(sources)):\n",
    "    print(f\"{sources[i]} => {destinations[i]}\")\n"
   ]
  },
  {
   "cell_type": "code",
   "execution_count": 12,
   "id": "854eb791",
   "metadata": {},
   "outputs": [],
   "source": [
    "# get user input for period (start and end date)\n",
    "start_date = np.datetime64(input('Start Date, Please use YYYY-MM-DD format only '))\n",
    "end_date = np.datetime64(input('End Date, Please use YYYY-MM-DD format only '))\n",
    "days = end_date - start_date\n",
    "num_days = days.item().days"
   ]
  },
  {
   "attachments": {},
   "cell_type": "markdown",
   "id": "f3496081",
   "metadata": {},
   "source": [
    "### Define functions for scraping"
   ]
  },
  {
   "cell_type": "code",
   "execution_count": 13,
   "id": "10169a37",
   "metadata": {},
   "outputs": [],
   "source": [
    "def get_airlines(soup):\n",
    "    airline = []\n",
    "    airlines = soup.find_all('span',class_='codeshares-airline-names',text=True)\n",
    "    for i in airlines:\n",
    "        airline.append(i.text)\n",
    "    return airline\n",
    "    \n",
    "def get_total_stops(soup):\n",
    "    stops_list = []\n",
    "    stops = soup.find_all('div',class_='section stops')\n",
    "\n",
    "    for i in stops:\n",
    "        for j in i.find_all('span',class_='stops-text'):\n",
    "               stops_list.append(j.text)\n",
    "    return stops_list\n",
    "\n",
    "def get_price(soup):\n",
    "    prices = []\n",
    "    price = soup.find_all('div',class_='Flights-Results-FlightPriceSection right-alignment sleek')\n",
    "\n",
    "    for i in price:\n",
    "        for j in i.find_all('span', class_='price-text'):\n",
    "            prices.append(j.text)\n",
    "    return prices\n",
    "\n",
    "def get_duration(soup):\n",
    "    duration_list = []\n",
    "    duration = soup.find_all('div' , class_='section duration allow-multi-modal-icons')\n",
    "    for i in duration:\n",
    "        for j in i.find_all('div',class_='top'):\n",
    "            duration_list.append(j.text)\n",
    "    return duration_list\n"
   ]
  },
  {
   "attachments": {},
   "cell_type": "markdown",
   "id": "b79ac2d4",
   "metadata": {},
   "source": [
    "## Scraping"
   ]
  },
  {
   "cell_type": "code",
   "execution_count": 22,
   "id": "a522f718",
   "metadata": {},
   "outputs": [
    {
     "name": "stderr",
     "output_type": "stream",
     "text": [
      "  0%|          | 0/123 [00:00<?, ?it/s]C:\\Users\\Slagter\\AppData\\Local\\Temp\\ipykernel_7900\\2241066058.py:36: FutureWarning: The frame.append method is deprecated and will be removed from pandas in a future version. Use pandas.concat instead.\n",
      "  df = df.append(pd.DataFrame({\n",
      "  1%|          | 1/123 [00:11<23:47, 11.70s/it]C:\\Users\\Slagter\\AppData\\Local\\Temp\\ipykernel_7900\\2241066058.py:36: FutureWarning: The frame.append method is deprecated and will be removed from pandas in a future version. Use pandas.concat instead.\n",
      "  df = df.append(pd.DataFrame({\n",
      "  2%|▏         | 2/123 [00:19<18:25,  9.14s/it]C:\\Users\\Slagter\\AppData\\Local\\Temp\\ipykernel_7900\\2241066058.py:36: FutureWarning: The frame.append method is deprecated and will be removed from pandas in a future version. Use pandas.concat instead.\n",
      "  df = df.append(pd.DataFrame({\n",
      "  2%|▏         | 3/123 [00:26<16:34,  8.29s/it]C:\\Users\\Slagter\\AppData\\Local\\Temp\\ipykernel_7900\\2241066058.py:36: FutureWarning: The frame.append method is deprecated and will be removed from pandas in a future version. Use pandas.concat instead.\n",
      "  df = df.append(pd.DataFrame({\n",
      "  3%|▎         | 4/123 [00:33<15:28,  7.80s/it]C:\\Users\\Slagter\\AppData\\Local\\Temp\\ipykernel_7900\\2241066058.py:36: FutureWarning: The frame.append method is deprecated and will be removed from pandas in a future version. Use pandas.concat instead.\n",
      "  df = df.append(pd.DataFrame({\n",
      "  4%|▍         | 5/123 [00:40<15:01,  7.64s/it]C:\\Users\\Slagter\\AppData\\Local\\Temp\\ipykernel_7900\\2241066058.py:36: FutureWarning: The frame.append method is deprecated and will be removed from pandas in a future version. Use pandas.concat instead.\n",
      "  df = df.append(pd.DataFrame({\n",
      "  5%|▍         | 6/123 [00:47<14:28,  7.43s/it]C:\\Users\\Slagter\\AppData\\Local\\Temp\\ipykernel_7900\\2241066058.py:36: FutureWarning: The frame.append method is deprecated and will be removed from pandas in a future version. Use pandas.concat instead.\n",
      "  df = df.append(pd.DataFrame({\n",
      "  6%|▌         | 7/123 [00:54<14:09,  7.33s/it]C:\\Users\\Slagter\\AppData\\Local\\Temp\\ipykernel_7900\\2241066058.py:36: FutureWarning: The frame.append method is deprecated and will be removed from pandas in a future version. Use pandas.concat instead.\n",
      "  df = df.append(pd.DataFrame({\n",
      "  7%|▋         | 8/123 [01:01<13:53,  7.25s/it]C:\\Users\\Slagter\\AppData\\Local\\Temp\\ipykernel_7900\\2241066058.py:36: FutureWarning: The frame.append method is deprecated and will be removed from pandas in a future version. Use pandas.concat instead.\n",
      "  df = df.append(pd.DataFrame({\n",
      "  7%|▋         | 9/123 [01:09<13:52,  7.30s/it]C:\\Users\\Slagter\\AppData\\Local\\Temp\\ipykernel_7900\\2241066058.py:36: FutureWarning: The frame.append method is deprecated and will be removed from pandas in a future version. Use pandas.concat instead.\n",
      "  df = df.append(pd.DataFrame({\n",
      "  8%|▊         | 10/123 [01:16<13:36,  7.23s/it]C:\\Users\\Slagter\\AppData\\Local\\Temp\\ipykernel_7900\\2241066058.py:36: FutureWarning: The frame.append method is deprecated and will be removed from pandas in a future version. Use pandas.concat instead.\n",
      "  df = df.append(pd.DataFrame({\n",
      "  9%|▉         | 11/123 [01:28<16:22,  8.77s/it]C:\\Users\\Slagter\\AppData\\Local\\Temp\\ipykernel_7900\\2241066058.py:36: FutureWarning: The frame.append method is deprecated and will be removed from pandas in a future version. Use pandas.concat instead.\n",
      "  df = df.append(pd.DataFrame({\n",
      " 10%|▉         | 12/123 [01:34<14:46,  7.98s/it]C:\\Users\\Slagter\\AppData\\Local\\Temp\\ipykernel_7900\\2241066058.py:36: FutureWarning: The frame.append method is deprecated and will be removed from pandas in a future version. Use pandas.concat instead.\n",
      "  df = df.append(pd.DataFrame({\n",
      " 11%|█         | 13/123 [01:42<14:16,  7.79s/it]C:\\Users\\Slagter\\AppData\\Local\\Temp\\ipykernel_7900\\2241066058.py:36: FutureWarning: The frame.append method is deprecated and will be removed from pandas in a future version. Use pandas.concat instead.\n",
      "  df = df.append(pd.DataFrame({\n",
      " 11%|█▏        | 14/123 [01:48<13:21,  7.36s/it]C:\\Users\\Slagter\\AppData\\Local\\Temp\\ipykernel_7900\\2241066058.py:36: FutureWarning: The frame.append method is deprecated and will be removed from pandas in a future version. Use pandas.concat instead.\n",
      "  df = df.append(pd.DataFrame({\n",
      " 12%|█▏        | 15/123 [01:54<12:42,  7.06s/it]C:\\Users\\Slagter\\AppData\\Local\\Temp\\ipykernel_7900\\2241066058.py:36: FutureWarning: The frame.append method is deprecated and will be removed from pandas in a future version. Use pandas.concat instead.\n",
      "  df = df.append(pd.DataFrame({\n",
      " 13%|█▎        | 16/123 [02:01<12:20,  6.92s/it]C:\\Users\\Slagter\\AppData\\Local\\Temp\\ipykernel_7900\\2241066058.py:36: FutureWarning: The frame.append method is deprecated and will be removed from pandas in a future version. Use pandas.concat instead.\n",
      "  df = df.append(pd.DataFrame({\n",
      " 14%|█▍        | 17/123 [02:09<12:53,  7.30s/it]C:\\Users\\Slagter\\AppData\\Local\\Temp\\ipykernel_7900\\2241066058.py:36: FutureWarning: The frame.append method is deprecated and will be removed from pandas in a future version. Use pandas.concat instead.\n",
      "  df = df.append(pd.DataFrame({\n",
      " 15%|█▍        | 18/123 [02:17<13:03,  7.46s/it]C:\\Users\\Slagter\\AppData\\Local\\Temp\\ipykernel_7900\\2241066058.py:36: FutureWarning: The frame.append method is deprecated and will be removed from pandas in a future version. Use pandas.concat instead.\n",
      "  df = df.append(pd.DataFrame({\n",
      " 15%|█▌        | 19/123 [02:24<12:38,  7.29s/it]C:\\Users\\Slagter\\AppData\\Local\\Temp\\ipykernel_7900\\2241066058.py:36: FutureWarning: The frame.append method is deprecated and will be removed from pandas in a future version. Use pandas.concat instead.\n",
      "  df = df.append(pd.DataFrame({\n",
      " 16%|█▋        | 20/123 [02:30<12:01,  7.01s/it]C:\\Users\\Slagter\\AppData\\Local\\Temp\\ipykernel_7900\\2241066058.py:36: FutureWarning: The frame.append method is deprecated and will be removed from pandas in a future version. Use pandas.concat instead.\n",
      "  df = df.append(pd.DataFrame({\n",
      " 17%|█▋        | 21/123 [02:43<14:36,  8.59s/it]C:\\Users\\Slagter\\AppData\\Local\\Temp\\ipykernel_7900\\2241066058.py:36: FutureWarning: The frame.append method is deprecated and will be removed from pandas in a future version. Use pandas.concat instead.\n",
      "  df = df.append(pd.DataFrame({\n",
      " 18%|█▊        | 22/123 [02:50<13:49,  8.21s/it]C:\\Users\\Slagter\\AppData\\Local\\Temp\\ipykernel_7900\\2241066058.py:36: FutureWarning: The frame.append method is deprecated and will be removed from pandas in a future version. Use pandas.concat instead.\n",
      "  df = df.append(pd.DataFrame({\n",
      " 19%|█▊        | 23/123 [02:58<13:35,  8.15s/it]C:\\Users\\Slagter\\AppData\\Local\\Temp\\ipykernel_7900\\2241066058.py:36: FutureWarning: The frame.append method is deprecated and will be removed from pandas in a future version. Use pandas.concat instead.\n",
      "  df = df.append(pd.DataFrame({\n",
      " 20%|█▉        | 24/123 [03:05<12:56,  7.84s/it]C:\\Users\\Slagter\\AppData\\Local\\Temp\\ipykernel_7900\\2241066058.py:36: FutureWarning: The frame.append method is deprecated and will be removed from pandas in a future version. Use pandas.concat instead.\n",
      "  df = df.append(pd.DataFrame({\n",
      " 20%|██        | 25/123 [03:12<12:19,  7.55s/it]C:\\Users\\Slagter\\AppData\\Local\\Temp\\ipykernel_7900\\2241066058.py:36: FutureWarning: The frame.append method is deprecated and will be removed from pandas in a future version. Use pandas.concat instead.\n",
      "  df = df.append(pd.DataFrame({\n",
      " 21%|██        | 26/123 [03:19<11:52,  7.34s/it]C:\\Users\\Slagter\\AppData\\Local\\Temp\\ipykernel_7900\\2241066058.py:36: FutureWarning: The frame.append method is deprecated and will be removed from pandas in a future version. Use pandas.concat instead.\n",
      "  df = df.append(pd.DataFrame({\n",
      " 22%|██▏       | 27/123 [03:25<11:21,  7.09s/it]C:\\Users\\Slagter\\AppData\\Local\\Temp\\ipykernel_7900\\2241066058.py:36: FutureWarning: The frame.append method is deprecated and will be removed from pandas in a future version. Use pandas.concat instead.\n",
      "  df = df.append(pd.DataFrame({\n",
      " 23%|██▎       | 28/123 [03:32<10:56,  6.91s/it]C:\\Users\\Slagter\\AppData\\Local\\Temp\\ipykernel_7900\\2241066058.py:36: FutureWarning: The frame.append method is deprecated and will be removed from pandas in a future version. Use pandas.concat instead.\n",
      "  df = df.append(pd.DataFrame({\n",
      " 24%|██▎       | 29/123 [03:45<13:56,  8.90s/it]C:\\Users\\Slagter\\AppData\\Local\\Temp\\ipykernel_7900\\2241066058.py:36: FutureWarning: The frame.append method is deprecated and will be removed from pandas in a future version. Use pandas.concat instead.\n",
      "  df = df.append(pd.DataFrame({\n",
      " 24%|██▍       | 30/123 [03:53<13:06,  8.46s/it]C:\\Users\\Slagter\\AppData\\Local\\Temp\\ipykernel_7900\\2241066058.py:36: FutureWarning: The frame.append method is deprecated and will be removed from pandas in a future version. Use pandas.concat instead.\n",
      "  df = df.append(pd.DataFrame({\n",
      " 25%|██▌       | 31/123 [04:05<14:51,  9.69s/it]C:\\Users\\Slagter\\AppData\\Local\\Temp\\ipykernel_7900\\2241066058.py:36: FutureWarning: The frame.append method is deprecated and will be removed from pandas in a future version. Use pandas.concat instead.\n",
      "  df = df.append(pd.DataFrame({\n",
      " 26%|██▌       | 32/123 [04:12<13:22,  8.82s/it]C:\\Users\\Slagter\\AppData\\Local\\Temp\\ipykernel_7900\\2241066058.py:36: FutureWarning: The frame.append method is deprecated and will be removed from pandas in a future version. Use pandas.concat instead.\n",
      "  df = df.append(pd.DataFrame({\n",
      " 27%|██▋       | 33/123 [04:19<12:31,  8.35s/it]C:\\Users\\Slagter\\AppData\\Local\\Temp\\ipykernel_7900\\2241066058.py:36: FutureWarning: The frame.append method is deprecated and will be removed from pandas in a future version. Use pandas.concat instead.\n",
      "  df = df.append(pd.DataFrame({\n",
      " 28%|██▊       | 34/123 [04:26<11:40,  7.87s/it]C:\\Users\\Slagter\\AppData\\Local\\Temp\\ipykernel_7900\\2241066058.py:36: FutureWarning: The frame.append method is deprecated and will be removed from pandas in a future version. Use pandas.concat instead.\n",
      "  df = df.append(pd.DataFrame({\n",
      " 28%|██▊       | 35/123 [04:33<11:05,  7.56s/it]C:\\Users\\Slagter\\AppData\\Local\\Temp\\ipykernel_7900\\2241066058.py:36: FutureWarning: The frame.append method is deprecated and will be removed from pandas in a future version. Use pandas.concat instead.\n",
      "  df = df.append(pd.DataFrame({\n",
      " 29%|██▉       | 36/123 [04:40<10:33,  7.28s/it]C:\\Users\\Slagter\\AppData\\Local\\Temp\\ipykernel_7900\\2241066058.py:36: FutureWarning: The frame.append method is deprecated and will be removed from pandas in a future version. Use pandas.concat instead.\n",
      "  df = df.append(pd.DataFrame({\n",
      " 30%|███       | 37/123 [05:03<11:45,  8.20s/it]\n"
     ]
    },
    {
     "ename": "NoSuchElementException",
     "evalue": "Message: no such element: Unable to locate element: {\"method\":\"xpath\",\"selector\":\"//div[@class=\"ULvh\"]/div[@class=\"ULvh-button show-more-button\"]\"}\n  (Session info: chrome=113.0.5672.129)\n",
     "output_type": "error",
     "traceback": [
      "\u001b[1;31m---------------------------------------------------------------------------\u001b[0m",
      "\u001b[1;31mNoSuchElementException\u001b[0m                    Traceback (most recent call last)",
      "Cell \u001b[1;32mIn[22], line 17\u001b[0m\n\u001b[0;32m     13\u001b[0m sleep(\u001b[39m5\u001b[39m)\n\u001b[0;32m     15\u001b[0m \u001b[39m# click show more button to get all flights\u001b[39;00m\n\u001b[0;32m     16\u001b[0m \u001b[39m# try:\u001b[39;00m\n\u001b[1;32m---> 17\u001b[0m show_more_button \u001b[39m=\u001b[39m driver\u001b[39m.\u001b[39;49mfind_element(By\u001b[39m.\u001b[39;49mXPATH, \u001b[39m'\u001b[39;49m\u001b[39m//div[@class=\u001b[39;49m\u001b[39m\"\u001b[39;49m\u001b[39mULvh\u001b[39;49m\u001b[39m\"\u001b[39;49m\u001b[39m]/div[@class=\u001b[39;49m\u001b[39m\"\u001b[39;49m\u001b[39mULvh-button show-more-button\u001b[39;49m\u001b[39m\"\u001b[39;49m\u001b[39m]\u001b[39;49m\u001b[39m'\u001b[39;49m)\n\u001b[0;32m     18\u001b[0m \u001b[39m# except:\u001b[39;00m\n\u001b[0;32m     19\u001b[0m     \n\u001b[0;32m     20\u001b[0m     \u001b[39m# in case a captcha appears, require input from user so that the for loop pauses and the user can continue the\u001b[39;00m\n\u001b[0;32m     21\u001b[0m     \u001b[39m# loop after solving the captcha\u001b[39;00m\n\u001b[0;32m     22\u001b[0m     \u001b[39m# input(\"Please solve the captcha then enter anything here to resume scraping.\")\u001b[39;00m\n\u001b[0;32m     24\u001b[0m \u001b[39mwhile\u001b[39;00m \u001b[39mTrue\u001b[39;00m:\n",
      "File \u001b[1;32mc:\\Users\\Slagter\\anaconda3\\lib\\site-packages\\selenium\\webdriver\\remote\\webdriver.py:976\u001b[0m, in \u001b[0;36mWebDriver.find_element\u001b[1;34m(self, by, value)\u001b[0m\n\u001b[0;32m    974\u001b[0m         by \u001b[39m=\u001b[39m By\u001b[39m.\u001b[39mCSS_SELECTOR\n\u001b[0;32m    975\u001b[0m         value \u001b[39m=\u001b[39m \u001b[39m'\u001b[39m\u001b[39m[name=\u001b[39m\u001b[39m\"\u001b[39m\u001b[39m%s\u001b[39;00m\u001b[39m\"\u001b[39m\u001b[39m]\u001b[39m\u001b[39m'\u001b[39m \u001b[39m%\u001b[39m value\n\u001b[1;32m--> 976\u001b[0m \u001b[39mreturn\u001b[39;00m \u001b[39mself\u001b[39;49m\u001b[39m.\u001b[39;49mexecute(Command\u001b[39m.\u001b[39;49mFIND_ELEMENT, {\n\u001b[0;32m    977\u001b[0m     \u001b[39m'\u001b[39;49m\u001b[39musing\u001b[39;49m\u001b[39m'\u001b[39;49m: by,\n\u001b[0;32m    978\u001b[0m     \u001b[39m'\u001b[39;49m\u001b[39mvalue\u001b[39;49m\u001b[39m'\u001b[39;49m: value})[\u001b[39m'\u001b[39m\u001b[39mvalue\u001b[39m\u001b[39m'\u001b[39m]\n",
      "File \u001b[1;32mc:\\Users\\Slagter\\anaconda3\\lib\\site-packages\\selenium\\webdriver\\remote\\webdriver.py:321\u001b[0m, in \u001b[0;36mWebDriver.execute\u001b[1;34m(self, driver_command, params)\u001b[0m\n\u001b[0;32m    319\u001b[0m response \u001b[39m=\u001b[39m \u001b[39mself\u001b[39m\u001b[39m.\u001b[39mcommand_executor\u001b[39m.\u001b[39mexecute(driver_command, params)\n\u001b[0;32m    320\u001b[0m \u001b[39mif\u001b[39;00m response:\n\u001b[1;32m--> 321\u001b[0m     \u001b[39mself\u001b[39;49m\u001b[39m.\u001b[39;49merror_handler\u001b[39m.\u001b[39;49mcheck_response(response)\n\u001b[0;32m    322\u001b[0m     response[\u001b[39m'\u001b[39m\u001b[39mvalue\u001b[39m\u001b[39m'\u001b[39m] \u001b[39m=\u001b[39m \u001b[39mself\u001b[39m\u001b[39m.\u001b[39m_unwrap_value(\n\u001b[0;32m    323\u001b[0m         response\u001b[39m.\u001b[39mget(\u001b[39m'\u001b[39m\u001b[39mvalue\u001b[39m\u001b[39m'\u001b[39m, \u001b[39mNone\u001b[39;00m))\n\u001b[0;32m    324\u001b[0m     \u001b[39mreturn\u001b[39;00m response\n",
      "File \u001b[1;32mc:\\Users\\Slagter\\anaconda3\\lib\\site-packages\\selenium\\webdriver\\remote\\errorhandler.py:242\u001b[0m, in \u001b[0;36mErrorHandler.check_response\u001b[1;34m(self, response)\u001b[0m\n\u001b[0;32m    240\u001b[0m         alert_text \u001b[39m=\u001b[39m value[\u001b[39m'\u001b[39m\u001b[39malert\u001b[39m\u001b[39m'\u001b[39m]\u001b[39m.\u001b[39mget(\u001b[39m'\u001b[39m\u001b[39mtext\u001b[39m\u001b[39m'\u001b[39m)\n\u001b[0;32m    241\u001b[0m     \u001b[39mraise\u001b[39;00m exception_class(message, screen, stacktrace, alert_text)\n\u001b[1;32m--> 242\u001b[0m \u001b[39mraise\u001b[39;00m exception_class(message, screen, stacktrace)\n",
      "\u001b[1;31mNoSuchElementException\u001b[0m: Message: no such element: Unable to locate element: {\"method\":\"xpath\",\"selector\":\"//div[@class=\"ULvh\"]/div[@class=\"ULvh-button show-more-button\"]\"}\n  (Session info: chrome=113.0.5672.129)\n"
     ]
    }
   ],
   "source": [
    "for i in range(len(sources)):\n",
    "    column_names = [\"Airline\", \"Source\", \"Destination\",\"Duration\" ,\"Total stops\", \"Price\",\"Date\"]\n",
    "    df = pd.DataFrame(columns = column_names)\n",
    "    for j in tqdm(range(num_days+1)):\n",
    "        \n",
    "        # close and open driver every 10 days to avoid captcha\n",
    "        if j % 10 == 0:\n",
    "            driver.quit()\n",
    "            driver = webdriver.Chrome(chromedriver_path)#, chrome_options=chromeOptions)\n",
    "            \n",
    "        url = f\"https://www.il.kayak.com/flights/{sources[i]}-{destinations[i]}/{start_date+j}\"\n",
    "        driver.get(url)\n",
    "        sleep(5)\n",
    "        \n",
    "        # click show more button to get all flights\n",
    "        try:\n",
    "            show_more_button = driver.find_element(By.XPATH, '//div[@class=\"ULvh\"]/div[@class=\"ULvh-button show-more-button\"]')\n",
    "        except:\n",
    "            \n",
    "            # in case a captcha appears, require input from user so that the for loop pauses and the user can continue the\n",
    "            # loop after solving the captcha\n",
    "            input(\"Please solve the captcha then enter anything here to resume scraping.\")\n",
    "            \n",
    "        while True:\n",
    "            try:\n",
    "                show_more_button.click()\n",
    "                driver.implicitly_wait(10)\n",
    "            except:\n",
    "                break\n",
    "    \n",
    "        soup = BeautifulSoup(driver.page_source, 'html.parser')\n",
    "        airlines = get_airlines(soup)\n",
    "        total_stops = get_total_stops(soup)\n",
    "        prices = get_price(soup)\n",
    "        duration = get_duration(soup)\n",
    "        df = df.append(pd.DataFrame({\n",
    "            'Airline': airlines,\n",
    "            'Duration': duration,\n",
    "            'Total stops' : total_stops,\n",
    "            'Price' : prices,\n",
    "            'Date' : start_date+j\n",
    "                                    }))\n",
    "        \n",
    "    df['Source'] = sources[i]\n",
    "    df['Destination'] = destinations[i]\n",
    "    df = df.replace('\\n','', regex=True)\n",
    "    df = df.reset_index(drop = True)\n",
    "    \n",
    "    # save data as csv file for each route\n",
    "    df.to_csv(f'{sources[i]}_{destinations[i]}.csv',index=False)\n",
    "    print(f\"Succesfully saved {sources[i]} => {destinations[i]} route as {sources[i]}_{destinations[i]}.csv \")\n",
    "    \n",
    "driver.quit()"
   ]
  }
 ],
 "metadata": {
  "kernelspec": {
   "display_name": "Python 3 (ipykernel)",
   "language": "python",
   "name": "python3"
  },
  "language_info": {
   "codemirror_mode": {
    "name": "ipython",
    "version": 3
   },
   "file_extension": ".py",
   "mimetype": "text/x-python",
   "name": "python",
   "nbconvert_exporter": "python",
   "pygments_lexer": "ipython3",
   "version": "3.10.9"
  }
 },
 "nbformat": 4,
 "nbformat_minor": 5
}
